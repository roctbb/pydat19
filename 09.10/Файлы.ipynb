{
 "cells": [
  {
   "cell_type": "code",
   "execution_count": 5,
   "metadata": {},
   "outputs": [],
   "source": [
    "s = \"Питон греется на жестком диске!\"\n",
    "f = open('text.txt', 'w', encoding='utf-8')\n",
    "f.write(s)\n",
    "f.close()\n",
    "\n"
   ]
  },
  {
   "cell_type": "code",
   "execution_count": 8,
   "metadata": {},
   "outputs": [],
   "source": [
    "# все пропадет!!\n",
    "s = \"Анаконда греется на жестком диске!\\n\"\n",
    "f = open('text.txt', 'w', encoding='utf-8')\n",
    "f.write(s)\n",
    "f.close()"
   ]
  },
  {
   "cell_type": "code",
   "execution_count": 9,
   "metadata": {},
   "outputs": [],
   "source": [
    "# дописываем в конец\n",
    "s = \"Питон греется на жестком диске!\\n\"\n",
    "f = open('text.txt', 'a', encoding='utf-8')\n",
    "f.write(s)\n",
    "f.write(s[::-1])\n",
    "f.close()"
   ]
  },
  {
   "cell_type": "code",
   "execution_count": 10,
   "metadata": {},
   "outputs": [
    {
     "name": "stdout",
     "output_type": "stream",
     "text": [
      "Анаконда греется на жестком диске!\n",
      "Питон греется на жестком диске!\n",
      "\n",
      "!ексид моктсеж ан ястеерг нотиП\n"
     ]
    }
   ],
   "source": [
    "# читаем текст целиком\n",
    "f = open('text.txt', 'r', encoding='utf-8')\n",
    "data = f.read()\n",
    "f.close()\n",
    "\n",
    "print(data)"
   ]
  },
  {
   "cell_type": "code",
   "execution_count": 11,
   "metadata": {},
   "outputs": [
    {
     "name": "stdout",
     "output_type": "stream",
     "text": [
      "['Анаконда греется на жестком диске!\\n', 'Питон греется на жестком диске!\\n', '\\n', '!ексид моктсеж ан ястеерг нотиП']\n"
     ]
    }
   ],
   "source": [
    "# или сразу список строк\n",
    "f = open('text.txt', 'r', encoding='utf-8')\n",
    "data = f.readlines()\n",
    "f.close()\n",
    "\n",
    "print(data)"
   ]
  },
  {
   "cell_type": "code",
   "execution_count": 12,
   "metadata": {},
   "outputs": [
    {
     "name": "stdout",
     "output_type": "stream",
     "text": [
      "Анаконда греется на жестком диске!\n",
      "Питон греется на жестком диске!\n",
      "\n",
      "!ексид моктсеж ан ястеерг нотиП\n"
     ]
    }
   ],
   "source": [
    "with open('text.txt', 'r', encoding='utf-8') as f:\n",
    "    print(f.read())"
   ]
  },
  {
   "cell_type": "code",
   "execution_count": 19,
   "metadata": {},
   "outputs": [],
   "source": [
    "# пробуем записать csv\n",
    "import csv\n",
    "\n",
    "rooms = [\n",
    "    (\"name\", \"room\"),\n",
    "    (\"Kate\", \"12A\"),\n",
    "    (\"John\", \"10\"),\n",
    "    (\"Alice\", \"2B\")\n",
    "]\n",
    "\n",
    "with open(\"data.csv\", \"w\", encoding=\"utf-8\", newline='') as f:\n",
    "    writer = csv.writer(f, delimiter=';')\n",
    "    for elem in rooms:\n",
    "        writer.writerow(elem)"
   ]
  },
  {
   "cell_type": "code",
   "execution_count": 21,
   "metadata": {},
   "outputs": [
    {
     "name": "stdout",
     "output_type": "stream",
     "text": [
      "name;room\n",
      "Kate;12A\n",
      "John;10\n",
      "Alice;2B\n"
     ]
    }
   ],
   "source": [
    "rooms = [\n",
    "    (\"name\", \"room\"),\n",
    "    (\"Kate\", \"12A\"),\n",
    "    (\"John\", \"10\"),\n",
    "    (\"Alice\", \"2B\")\n",
    "]\n",
    "\n",
    "rooms = list(map(lambda x:\";\".join(x), rooms))\n",
    "text = '\\n'.join(rooms)\n",
    "\n",
    "print(text)\n",
    "\n",
    "with open(\"data.csv\", \"w\", encoding=\"utf-8\") as f:\n",
    "    f.write(text)"
   ]
  },
  {
   "cell_type": "code",
   "execution_count": 22,
   "metadata": {},
   "outputs": [
    {
     "name": "stdout",
     "output_type": "stream",
     "text": [
      "['name', 'room']\n",
      "['Kate', '12A']\n",
      "['John', '10']\n",
      "['Alice', '2B']\n"
     ]
    }
   ],
   "source": [
    "import csv\n",
    "\n",
    "with open(\"data.csv\", \"r\", encoding=\"utf-8\") as f:\n",
    "    reader = csv.reader(f, delimiter=';')\n",
    "    for line in reader:\n",
    "        print(line)"
   ]
  },
  {
   "cell_type": "code",
   "execution_count": 25,
   "metadata": {},
   "outputs": [
    {
     "name": "stdout",
     "output_type": "stream",
     "text": [
      "Name Kate\n",
      "Room 12A\n",
      "Name John\n",
      "Room 10\n",
      "Name Alice\n",
      "Room 2B\n"
     ]
    }
   ],
   "source": [
    "import csv\n",
    "\n",
    "with open(\"data.csv\", \"r\", encoding=\"utf-8\") as f:\n",
    "    reader = csv.DictReader(f, delimiter=';')\n",
    "    for line in reader:\n",
    "        print(\"Name\", line['name'])\n",
    "        print(\"Room\", line['room'])"
   ]
  },
  {
   "cell_type": "code",
   "execution_count": 26,
   "metadata": {},
   "outputs": [
    {
     "name": "stdout",
     "output_type": "stream",
     "text": [
      "Requirement already satisfied: pillow in c:\\programdata\\anaconda3\\lib\\site-packages (6.1.0)\n"
     ]
    }
   ],
   "source": [
    "!pip install pillow"
   ]
  },
  {
   "cell_type": "code",
   "execution_count": 33,
   "metadata": {},
   "outputs": [],
   "source": [
    "from PIL import Image\n",
    "\n",
    "cat = Image.open(\"cat.jpg\")\n",
    "pixels = cat.load()\n",
    "for i in range(0, cat.width):\n",
    "    for j in range(0, cat.height):\n",
    "        r, g, b = pixels[i, j]\n",
    "        r += 100\n",
    "        pixels[i, j] = r, g, b\n",
    "cat.show()"
   ]
  },
  {
   "cell_type": "code",
   "execution_count": 34,
   "metadata": {},
   "outputs": [
    {
     "name": "stdout",
     "output_type": "stream",
     "text": [
      "Requirement already satisfied: xlrd in c:\\programdata\\anaconda3\\lib\\site-packages (1.2.0)\n"
     ]
    }
   ],
   "source": [
    "!pip install xlrd"
   ]
  },
  {
   "cell_type": "code",
   "execution_count": 38,
   "metadata": {},
   "outputs": [
    {
     "name": "stdout",
     "output_type": "stream",
     "text": [
      "[text:'A', text:'B']\n",
      "[text:'C', text:'D']\n"
     ]
    }
   ],
   "source": [
    "import xlrd, xlwt\n",
    "#открываем файл\n",
    "rb = xlrd.open_workbook('1.xlsx')\n",
    "\n",
    "#выбираем активный лист\n",
    "sheet = rb.sheet_by_index(0)\n",
    "\n",
    "for rx in range(sheet.nrows):\n",
    "    print(sheet.row(rx))"
   ]
  },
  {
   "cell_type": "code",
   "execution_count": null,
   "metadata": {},
   "outputs": [],
   "source": []
  }
 ],
 "metadata": {
  "kernelspec": {
   "display_name": "Python 3",
   "language": "python",
   "name": "python3"
  },
  "language_info": {
   "codemirror_mode": {
    "name": "ipython",
    "version": 3
   },
   "file_extension": ".py",
   "mimetype": "text/x-python",
   "name": "python",
   "nbconvert_exporter": "python",
   "pygments_lexer": "ipython3",
   "version": "3.7.3"
  }
 },
 "nbformat": 4,
 "nbformat_minor": 2
}

{
 "cells": [
  {
   "cell_type": "code",
   "execution_count": 52,
   "metadata": {},
   "outputs": [],
   "source": [
    "class Ball:\n",
    "    # конструктор\n",
    "    def __init__(self, x=0, y=0, vx=10, vy=0.1, force=10, r = 10):\n",
    "        self.x = x\n",
    "        self.y = y\n",
    "        self.vx = vx\n",
    "        self.vy = vy\n",
    "        self.r = r\n",
    "        self.force = force\n",
    "        \n",
    "    def __str__(self):\n",
    "        return f\"x = {self.x}, y = {self.y}, R = {self.r}\"\n",
    "    \n",
    "    def __add__(self, another_object):\n",
    "        n = Ball(self.x, self.y, self.vx, self.vy, self.force)\n",
    "        n.r = self.r + another_object.r\n",
    "        return n\n",
    "    def __eq__(self, other):\n",
    "        return self.r == other.r\n",
    "    \n",
    "    def __gt__(self, other):\n",
    "        return self.r > other.r\n",
    "    \n",
    "    def __lt__(self, other):\n",
    "        return self.r < other.r\n",
    "        \n",
    "    def __str__(self):\n",
    "        return f\"Ball, x = {self.x}, y = {self.y}, R = {self.r}\"\n",
    "    \n",
    "    def move(self, direction):\n",
    "        if direction == 'left':\n",
    "            self.x = self.x - self.vx\n",
    "        if direction == 'right':\n",
    "            self.x = self.x + self.vx\n",
    "        if self.y > 0:\n",
    "            self.y -= self.vy\n",
    "    \n",
    "    def jump(self):\n",
    "        self.y += self.force"
   ]
  },
  {
   "cell_type": "code",
   "execution_count": 53,
   "metadata": {},
   "outputs": [
    {
     "name": "stdout",
     "output_type": "stream",
     "text": [
      "Ball, x = 0, y = 10, R = 10\n",
      "Ball, x = 0, y = 0, R = 20\n"
     ]
    }
   ],
   "source": [
    "B = Ball(0, 10, 5, 0.3)\n",
    "C = Ball(r=20)\n",
    "print(B)\n",
    "print(C)\n",
    "A = B + C\n",
    " "
   ]
  },
  {
   "cell_type": "code",
   "execution_count": 54,
   "metadata": {},
   "outputs": [
    {
     "name": "stdout",
     "output_type": "stream",
     "text": [
      "Ball, x = 20, y = 10, R = 10\n",
      "Ball, x = 0, y = 0, R = 10\n",
      "True\n"
     ]
    }
   ],
   "source": [
    "B = Ball(20, 10, 5, 0.3)\n",
    "C = Ball()\n",
    "\n",
    "print(B)\n",
    "print(C)\n",
    "print(B == C)"
   ]
  },
  {
   "cell_type": "code",
   "execution_count": 58,
   "metadata": {},
   "outputs": [
    {
     "name": "stdout",
     "output_type": "stream",
     "text": [
      "Ball, x = 0, y = 0, R = 1\n",
      "Ball, x = 0, y = 0, R = 7\n",
      "Ball, x = 0, y = 0, R = 11\n",
      "Ball, x = 0, y = 0, R = 19\n",
      "Ball, x = 0, y = 0, R = 20\n",
      "Ball, x = 0, y = 0, R = 20\n",
      "Ball, x = 0, y = 0, R = 27\n",
      "Ball, x = 0, y = 0, R = 27\n",
      "Ball, x = 0, y = 0, R = 33\n",
      "Ball, x = 0, y = 0, R = 51\n",
      "Ball, x = 0, y = 0, R = 54\n",
      "Ball, x = 0, y = 0, R = 61\n",
      "Ball, x = 0, y = 0, R = 62\n",
      "Ball, x = 0, y = 0, R = 65\n",
      "Ball, x = 0, y = 0, R = 71\n",
      "Ball, x = 0, y = 0, R = 72\n",
      "Ball, x = 0, y = 0, R = 76\n",
      "Ball, x = 0, y = 0, R = 79\n",
      "Ball, x = 0, y = 0, R = 80\n",
      "Ball, x = 0, y = 0, R = 88\n"
     ]
    }
   ],
   "source": [
    "import random\n",
    "\n",
    "ball_list = []\n",
    "\n",
    "for _ in range(20):\n",
    "    ball_list.append(Ball(r=random.randint(0, 100)))\n",
    "\n",
    "L = list(sorted(ball_list))\n",
    "\n",
    "for ball in L:\n",
    "    print(ball)"
   ]
  },
  {
   "cell_type": "code",
   "execution_count": 71,
   "metadata": {},
   "outputs": [],
   "source": [
    "import matplotlib.pyplot as plt\n",
    "%matplotlib inline\n",
    "\n",
    "class PaintBall(Ball):\n",
    "    def __str__(self):\n",
    "        answer = super().__str__()\n",
    "        return \"Paint\" + answer\n",
    "    def paint(self):\n",
    "        plt.scatter([self.x], [self.y], s=[self.r])\n",
    "        "
   ]
  },
  {
   "cell_type": "code",
   "execution_count": 72,
   "metadata": {},
   "outputs": [
    {
     "name": "stdout",
     "output_type": "stream",
     "text": [
      "PaintBall, x = 0, y = 0, R = 10\n"
     ]
    },
    {
     "data": {
      "image/png": "[encoded data removed]",
      "text/plain": [
       "<Figure size 432x288 with 1 Axes>"
      ]
     },
     "metadata": {
      "needs_background": "light"
     },
     "output_type": "display_data"
    }
   ],
   "source": [
    "P = PaintBall()\n",
    "print(P)\n",
    "P.paint()"
   ]
  },
  {
   "cell_type": "code",
   "execution_count": null,
   "metadata": {},
   "outputs": [],
   "source": []
  }
 ],
 "metadata": {
  "kernelspec": {
   "display_name": "Python 3",
   "language": "python",
   "name": "python3"
  },
  "language_info": {
   "codemirror_mode": {
    "name": "ipython",
    "version": 3
   },
   "file_extension": ".py",
   "mimetype": "text/x-python",
   "name": "python",
   "nbconvert_exporter": "python",
   "pygments_lexer": "ipython3",
   "version": "3.7.3"
  }
 },
 "nbformat": 4,
 "nbformat_minor": 2
}
